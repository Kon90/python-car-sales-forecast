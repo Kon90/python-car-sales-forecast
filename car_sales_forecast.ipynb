{
 "cells": [
  {
   "cell_type": "markdown",
   "metadata": {},
   "source": [
    "# Car sales forecast"
   ]
  },
  {
   "cell_type": "code",
   "execution_count": 13,
   "metadata": {},
   "outputs": [
    {
     "data": {
      "text/html": [
       "<div>\n",
       "<style scoped>\n",
       "    .dataframe tbody tr th:only-of-type {\n",
       "        vertical-align: middle;\n",
       "    }\n",
       "\n",
       "    .dataframe tbody tr th {\n",
       "        vertical-align: top;\n",
       "    }\n",
       "\n",
       "    .dataframe thead th {\n",
       "        text-align: right;\n",
       "    }\n",
       "</style>\n",
       "<table border=\"1\" class=\"dataframe\">\n",
       "  <thead>\n",
       "    <tr style=\"text-align: right;\">\n",
       "      <th>Period</th>\n",
       "      <th>2007-01</th>\n",
       "      <th>2007-02</th>\n",
       "      <th>2007-03</th>\n",
       "      <th>2007-04</th>\n",
       "      <th>2007-05</th>\n",
       "      <th>2007-06</th>\n",
       "      <th>2007-07</th>\n",
       "      <th>2007-08</th>\n",
       "      <th>2007-09</th>\n",
       "      <th>2007-10</th>\n",
       "      <th>...</th>\n",
       "      <th>2016-04</th>\n",
       "      <th>2016-05</th>\n",
       "      <th>2016-06</th>\n",
       "      <th>2016-07</th>\n",
       "      <th>2016-08</th>\n",
       "      <th>2016-09</th>\n",
       "      <th>2016-10</th>\n",
       "      <th>2016-11</th>\n",
       "      <th>2016-12</th>\n",
       "      <th>2017-01</th>\n",
       "    </tr>\n",
       "    <tr>\n",
       "      <th>Make</th>\n",
       "      <th></th>\n",
       "      <th></th>\n",
       "      <th></th>\n",
       "      <th></th>\n",
       "      <th></th>\n",
       "      <th></th>\n",
       "      <th></th>\n",
       "      <th></th>\n",
       "      <th></th>\n",
       "      <th></th>\n",
       "      <th></th>\n",
       "      <th></th>\n",
       "      <th></th>\n",
       "      <th></th>\n",
       "      <th></th>\n",
       "      <th></th>\n",
       "      <th></th>\n",
       "      <th></th>\n",
       "      <th></th>\n",
       "      <th></th>\n",
       "      <th></th>\n",
       "    </tr>\n",
       "  </thead>\n",
       "  <tbody>\n",
       "    <tr>\n",
       "      <td>Alfa Romeo</td>\n",
       "      <td>16</td>\n",
       "      <td>9</td>\n",
       "      <td>21</td>\n",
       "      <td>20</td>\n",
       "      <td>17</td>\n",
       "      <td>21</td>\n",
       "      <td>14</td>\n",
       "      <td>12</td>\n",
       "      <td>15</td>\n",
       "      <td>10</td>\n",
       "      <td>...</td>\n",
       "      <td>3</td>\n",
       "      <td>1</td>\n",
       "      <td>2</td>\n",
       "      <td>1</td>\n",
       "      <td>6</td>\n",
       "      <td>15</td>\n",
       "      <td>3</td>\n",
       "      <td>4</td>\n",
       "      <td>3</td>\n",
       "      <td>6</td>\n",
       "    </tr>\n",
       "    <tr>\n",
       "      <td>Aston Martin</td>\n",
       "      <td>0</td>\n",
       "      <td>0</td>\n",
       "      <td>1</td>\n",
       "      <td>0</td>\n",
       "      <td>4</td>\n",
       "      <td>3</td>\n",
       "      <td>3</td>\n",
       "      <td>0</td>\n",
       "      <td>0</td>\n",
       "      <td>0</td>\n",
       "      <td>...</td>\n",
       "      <td>0</td>\n",
       "      <td>0</td>\n",
       "      <td>1</td>\n",
       "      <td>0</td>\n",
       "      <td>0</td>\n",
       "      <td>0</td>\n",
       "      <td>0</td>\n",
       "      <td>0</td>\n",
       "      <td>0</td>\n",
       "      <td>0</td>\n",
       "    </tr>\n",
       "    <tr>\n",
       "      <td>Audi</td>\n",
       "      <td>599</td>\n",
       "      <td>498</td>\n",
       "      <td>682</td>\n",
       "      <td>556</td>\n",
       "      <td>630</td>\n",
       "      <td>498</td>\n",
       "      <td>562</td>\n",
       "      <td>590</td>\n",
       "      <td>393</td>\n",
       "      <td>554</td>\n",
       "      <td>...</td>\n",
       "      <td>685</td>\n",
       "      <td>540</td>\n",
       "      <td>551</td>\n",
       "      <td>687</td>\n",
       "      <td>794</td>\n",
       "      <td>688</td>\n",
       "      <td>603</td>\n",
       "      <td>645</td>\n",
       "      <td>827</td>\n",
       "      <td>565</td>\n",
       "    </tr>\n",
       "    <tr>\n",
       "      <td>BMW</td>\n",
       "      <td>352</td>\n",
       "      <td>335</td>\n",
       "      <td>365</td>\n",
       "      <td>360</td>\n",
       "      <td>431</td>\n",
       "      <td>477</td>\n",
       "      <td>403</td>\n",
       "      <td>348</td>\n",
       "      <td>271</td>\n",
       "      <td>562</td>\n",
       "      <td>...</td>\n",
       "      <td>1052</td>\n",
       "      <td>832</td>\n",
       "      <td>808</td>\n",
       "      <td>636</td>\n",
       "      <td>1031</td>\n",
       "      <td>1193</td>\n",
       "      <td>1096</td>\n",
       "      <td>1663</td>\n",
       "      <td>866</td>\n",
       "      <td>1540</td>\n",
       "    </tr>\n",
       "    <tr>\n",
       "      <td>Bentley</td>\n",
       "      <td>0</td>\n",
       "      <td>0</td>\n",
       "      <td>0</td>\n",
       "      <td>0</td>\n",
       "      <td>0</td>\n",
       "      <td>1</td>\n",
       "      <td>0</td>\n",
       "      <td>0</td>\n",
       "      <td>0</td>\n",
       "      <td>0</td>\n",
       "      <td>...</td>\n",
       "      <td>0</td>\n",
       "      <td>0</td>\n",
       "      <td>1</td>\n",
       "      <td>1</td>\n",
       "      <td>1</td>\n",
       "      <td>0</td>\n",
       "      <td>0</td>\n",
       "      <td>0</td>\n",
       "      <td>0</td>\n",
       "      <td>0</td>\n",
       "    </tr>\n",
       "  </tbody>\n",
       "</table>\n",
       "<p>5 rows × 121 columns</p>\n",
       "</div>"
      ],
      "text/plain": [
       "Period        2007-01  2007-02  2007-03  2007-04  2007-05  2007-06  2007-07  \\\n",
       "Make                                                                          \n",
       "Alfa Romeo         16        9       21       20       17       21       14   \n",
       "Aston Martin        0        0        1        0        4        3        3   \n",
       "Audi              599      498      682      556      630      498      562   \n",
       "BMW               352      335      365      360      431      477      403   \n",
       "Bentley             0        0        0        0        0        1        0   \n",
       "\n",
       "Period        2007-08  2007-09  2007-10  ...  2016-04  2016-05  2016-06  \\\n",
       "Make                                     ...                              \n",
       "Alfa Romeo         12       15       10  ...        3        1        2   \n",
       "Aston Martin        0        0        0  ...        0        0        1   \n",
       "Audi              590      393      554  ...      685      540      551   \n",
       "BMW               348      271      562  ...     1052      832      808   \n",
       "Bentley             0        0        0  ...        0        0        1   \n",
       "\n",
       "Period        2016-07  2016-08  2016-09  2016-10  2016-11  2016-12  2017-01  \n",
       "Make                                                                         \n",
       "Alfa Romeo          1        6       15        3        4        3        6  \n",
       "Aston Martin        0        0        0        0        0        0        0  \n",
       "Audi              687      794      688      603      645      827      565  \n",
       "BMW               636     1031     1193     1096     1663      866     1540  \n",
       "Bentley             1        1        0        0        0        0        0  \n",
       "\n",
       "[5 rows x 121 columns]"
      ]
     },
     "execution_count": 13,
     "metadata": {},
     "output_type": "execute_result"
    }
   ],
   "source": [
    "import pandas as pd\n",
    "\n",
    "def import_data():\n",
    "# Load the CSV file (should be in the same directory) \n",
    " data = pd.read_csv(\"./data/norway_new_car_sales_by_make.csv\") \n",
    "# Create a column “Period” with both the Year and the Month \n",
    " data['Period'] = data['Year'].astype(str) + '-' + data['Month'].astype(str) \n",
    "# We use the datetime formatting to make sure format is consistent \n",
    " data['Period'] = pd.to_datetime(data['Period']).dt.strftime('%Y-%m') \n",
    "# Create a pivot of the data to show the periods on columns and the car makers on rows \n",
    " df = pd.pivot_table(data=data, values='Quantity', index='Make', columns='Period', aggfunc='sum', fill_value=0) \n",
    " return df\n",
    "\n",
    "df.head()"
   ]
  },
  {
   "cell_type": "markdown",
   "metadata": {},
   "source": [
    "Now that we have our dataset with the proper formatting, we can create our training and test sets. For this purpose, we will create a function datasets that takes as inputs:\n",
    "\n",
    "df our initial historical demand;\n",
    "- x_len the number of months we will use to make a prediction;\n",
    "- y_len the number of months we want to predict;\n",
    "- y_test_len the number of months we leave as a final test;\n",
    "\n",
    "and returns X_train, Y_train, X_test & Y_test."
   ]
  },
  {
   "cell_type": "code",
   "execution_count": 17,
   "metadata": {},
   "outputs": [
    {
     "data": {
      "text/plain": [
       "121"
      ]
     },
     "execution_count": 17,
     "metadata": {},
     "output_type": "execute_result"
    }
   ],
   "source": [
    "df.values.shape[1]"
   ]
  },
  {
   "cell_type": "code",
   "execution_count": 25,
   "metadata": {},
   "outputs": [],
   "source": [
    "def datasets(df, x_len=12, y_len=1, y_test_len=12):\n",
    " D = df.values\n",
    " periods = D.shape[1] #number of columns\n",
    " \n",
    " # Training set creation: run through all the possible time windows\n",
    " loops = periods + 1 - x_len - y_len - y_test_len \n",
    " train = []\n",
    " for col in range(loops):\n",
    "  train.append(D[:,col:col+x_len+y_len])\n",
    " train = np.vstack(train)\n",
    " X_train, Y_train = np.split(train,[x_len],axis=1)\n",
    " \n",
    " # Test set creation: unseen “future” data with the demand just before\n",
    " max_col_test = periods - x_len - y_len + 1\n",
    " test = []\n",
    " for col in range(loops,max_col_test):\n",
    "  test.append(D[:,col:col+x_len+y_len])\n",
    " test = np.vstack(test)\n",
    " X_test, Y_test = np.split(test,[x_len],axis=1)\n",
    " \n",
    " # this data formatting is needed if we only predict a single period\n",
    " if y_len == 1:\n",
    "  Y_train = Y_train.ravel()\n",
    " Y_test = Y_test.ravel()\n",
    " \n",
    " return X_train, Y_train, X_test, Y_test"
   ]
  },
  {
   "cell_type": "markdown",
   "metadata": {},
   "source": [
    "In our function, we have to use .ravel() on both Y_train and Y_test if we only want to predict one period at a time.\n",
    "array.ravel() reduces the dimension of a NumPy array to 1D.\n",
    "Y_train and Y_test are always created by our function as 2D arrays (i.e. arrays with rows and columns). If we only want to predict one period at a time, these arrays will then only have one column (and multiple rows). Unfortunately, the functions we will use later will want 1D arrays if we want to forecast only one period."
   ]
  },
  {
   "cell_type": "code",
   "execution_count": 26,
   "metadata": {},
   "outputs": [],
   "source": [
    "import numpy as np\n",
    "\n",
    "X_train, Y_train, X_test, Y_test = datasets(df)"
   ]
  },
  {
   "cell_type": "markdown",
   "metadata": {},
   "source": [
    "We now obtain the datasets we need to feed our machine learning algorithm (X_train & Y_train) and the datasets we need to test it (X_test & Y_test).\n",
    "\n",
    "Note that we took y_test_len as 12 periods. That means we will test our algorithm over 12 different predictions (as we only predict one period at a time).\n",
    "\n",
    "Forecasting multiple periods at once You can change y_len if you want to forecast multiple periods at once. You need to pay attention to keep y_test_len ≥ y_len, otherwise you won’t be able to test all the predictions of your algorithm."
   ]
  },
  {
   "cell_type": "markdown",
   "metadata": {},
   "source": [
    "# Regression Tree\n",
    "As a first machine learning algorithm, we will use a decision tree. Decision trees are a class of machine learning algorithms that will create a map (a tree actually) of questions to make a prediction. We call these trees regression trees if we want them to predict a number, or classification trees if we want them to predict a category or a label.\n",
    "\n",
    "In order to make a prediction, the tree will start at its foundation with a first yes/no question, and based on the answer it will continue asking new yes/no questions until it gets to a final prediction. \n",
    "\n",
    "We will use the scikit-learn Python library (www.scikit-learn.org) to grow our first tree. This is a well-known open-source library that is used all over the world by data scientists. It is built on top of NumPy, so that it interacts easily with the rest of our code.\n",
    "\n",
    "The first step is to call scikit-learn and create an instance of a regression tree. Once this is done, we have to train it based on our X_train and Y_train arrays."
   ]
  },
  {
   "cell_type": "code",
   "execution_count": 27,
   "metadata": {},
   "outputs": [
    {
     "data": {
      "text/plain": [
       "DecisionTreeRegressor(criterion='mse', max_depth=5, max_features=None,\n",
       "                      max_leaf_nodes=None, min_impurity_decrease=0.0,\n",
       "                      min_impurity_split=None, min_samples_leaf=5,\n",
       "                      min_samples_split=2, min_weight_fraction_leaf=0.0,\n",
       "                      presort=False, random_state=None, splitter='best')"
      ]
     },
     "execution_count": 27,
     "metadata": {},
     "output_type": "execute_result"
    }
   ],
   "source": [
    "from sklearn.tree import DecisionTreeRegressor \n",
    " \n",
    "# — Instantiate a Decision Tree Regressor \n",
    "tree = DecisionTreeRegressor(max_depth=5,min_samples_leaf=5) \n",
    " \n",
    "# — Fit the tree to the training data \n",
    "tree.fit(X_train,Y_train) "
   ]
  },
  {
   "cell_type": "code",
   "execution_count": 30,
   "metadata": {},
   "outputs": [
    {
     "name": "stdout",
     "output_type": "stream",
     "text": [
      "Tree on train set MAE%: 18.1\n"
     ]
    }
   ],
   "source": [
    "# Create a prediction based on our model \n",
    "Y_train_pred = tree.predict(X_train) \n",
    " \n",
    "# Compute the Mean Absolute Error of the model \n",
    "import numpy as np\n",
    "MAE_tree = np.mean(abs(Y_train - Y_train_pred))/np.mean(Y_train) \n",
    " \n",
    "# Print the results \n",
    "print('Tree on train set MAE%:',round(MAE_tree*100,1))"
   ]
  },
  {
   "cell_type": "code",
   "execution_count": 32,
   "metadata": {},
   "outputs": [
    {
     "name": "stdout",
     "output_type": "stream",
     "text": [
      "Tree on test set MAE%: 21.1\n"
     ]
    }
   ],
   "source": [
    "Y_test_pred = tree.predict(X_test) \n",
    "MAE_test = np.mean(abs(Y_test - Y_test_pred))/np.mean(Y_test) \n",
    "print('Tree on test set MAE%:',round(MAE_test*100,1))"
   ]
  }
 ],
 "metadata": {
  "kernelspec": {
   "display_name": "Python 3",
   "language": "python",
   "name": "python3"
  },
  "language_info": {
   "codemirror_mode": {
    "name": "ipython",
    "version": 3
   },
   "file_extension": ".py",
   "mimetype": "text/x-python",
   "name": "python",
   "nbconvert_exporter": "python",
   "pygments_lexer": "ipython3",
   "version": "3.7.4"
  }
 },
 "nbformat": 4,
 "nbformat_minor": 2
}
